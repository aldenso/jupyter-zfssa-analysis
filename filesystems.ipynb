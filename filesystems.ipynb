{
 "cells": [
  {
   "cell_type": "code",
   "execution_count": null,
   "metadata": {},
   "outputs": [],
   "source": [
    "%matplotlib inline\n",
    "import pandas as pd\n",
    "from pandas.plotting import table\n",
    "import matplotlib.pyplot as plt\n",
    "from IPython.display import display, Markdown, HTML"
   ]
  },
  {
   "cell_type": "code",
   "execution_count": null,
   "metadata": {},
   "outputs": [],
   "source": [
    "#FSFILE = ['filesystems.csv', 'anotherpath/filesystems.csv']\n",
    "FSFILE = ['/tmp/zfssa_explorer_XXX.XXX.XXX.XXX_XXXXXX_XXXXXX/filesystems.csv']"
   ]
  },
  {
   "cell_type": "markdown",
   "metadata": {},
   "source": [
    "Just a function to change sizes to human readable for return values"
   ]
  },
  {
   "cell_type": "code",
   "execution_count": null,
   "metadata": {},
   "outputs": [],
   "source": [
    "suffixes = ['B', 'KB', 'MB', 'GB', 'TB', 'PB']\n",
    "def human_size(nbytes):\n",
    "    i = 0\n",
    "    while nbytes >= 1024 and i < len(suffixes)-1:\n",
    "        nbytes /= 1024.\n",
    "        i += 1\n",
    "    f = ('%.2f' % nbytes).rstrip('0').rstrip('.')\n",
    "    return '%s %s' % (f, suffixes[i])"
   ]
  },
  {
   "cell_type": "code",
   "execution_count": null,
   "metadata": {},
   "outputs": [],
   "source": [
    "#dataraw = pd.read_csv(FSFILE, header=1, sep=\";\")\n",
    "dataraw = \"\"\n",
    "if len(FSFILE) == 1:\n",
    "    dataraw = pd.read_csv(str(FSFILE).strip(\"[']\"), header=1, sep=\";\")\n",
    "else:\n",
    "    filelist = []\n",
    "    for file in FSFILE:\n",
    "        x = 0\n",
    "        dfname = \"df{}\".format(x)\n",
    "        dfname = pd.read_csv(file, header=1, sep=\";\")\n",
    "        filelist.append(dfname)\n",
    "        x + 1\n",
    "    dataraw = pd.concat(filelist)"
   ]
  },
  {
   "cell_type": "markdown",
   "metadata": {},
   "source": [
    "Show available columns"
   ]
  },
  {
   "cell_type": "code",
   "execution_count": null,
   "metadata": {},
   "outputs": [],
   "source": [
    "dataraw.columns"
   ]
  },
  {
   "cell_type": "code",
   "execution_count": null,
   "metadata": {},
   "outputs": [],
   "source": [
    "countfs = dataraw['id'].count()\n",
    "display(Markdown(\"#### FileSystems Count: {}\".format(countfs)))"
   ]
  },
  {
   "cell_type": "markdown",
   "metadata": {},
   "source": [
    "### Get Filesystems per pool"
   ]
  },
  {
   "cell_type": "code",
   "execution_count": null,
   "metadata": {},
   "outputs": [],
   "source": [
    "countfspool = dataraw[['id', 'pool']].rename(columns={'id': 'Filesystems'}).groupby('pool').count()\n",
    "\n",
    "plt.figure(figsize=(16, 9))\n",
    "# plot bar\n",
    "ax1 = plt.subplot(221)\n",
    "ax1 = countfspool.plot(kind='bar', legend=False, ax=ax1, fontsize=12, grid=True)\n",
    "ax1.set_ylabel('FS Count')\n",
    "ax1.set_xlabel('pool')\n",
    "# plot table\n",
    "ax2 = plt.subplot(222)\n",
    "plt.axis('off')\n",
    "tbl = table(ax2, countfspool, loc='center', bbox=[0.2, 0.2, 0.5, 0.5])\n",
    "tbl.auto_set_font_size(False)\n",
    "tbl.set_fontsize(14)\n",
    "# plot pie\n",
    "ax3 = plt.subplot(223)\n",
    "ax3 = countfspool.plot(kind='pie', legend=False, subplots=True, ax=ax3, startangle=90)\n",
    "plt.show()"
   ]
  },
  {
   "cell_type": "markdown",
   "metadata": {},
   "source": [
    "### Usage"
   ]
  },
  {
   "cell_type": "code",
   "execution_count": null,
   "metadata": {},
   "outputs": [],
   "source": [
    "sumspace = dataraw[['space_total', 'space_data']].sum()\n",
    "sumspace.map(human_size)"
   ]
  },
  {
   "cell_type": "code",
   "execution_count": null,
   "metadata": {},
   "outputs": [],
   "source": [
    "spacepool = dataraw[['space_total', 'space_data', 'pool']].groupby('pool')\n",
    "spacepool.sum().applymap(human_size)"
   ]
  },
  {
   "cell_type": "markdown",
   "metadata": {},
   "source": [
    "### Graphical comparison between space total usage and space data usage"
   ]
  },
  {
   "cell_type": "code",
   "execution_count": null,
   "metadata": {},
   "outputs": [],
   "source": [
    "plt.figure(figsize=(16, 4))\n",
    "# plot bar\n",
    "ax = plt.subplot(111)\n",
    "ax = spacepool.sum().plot(kind='barh', legend=True, ax=ax, fontsize=12, grid=True)\n",
    "ax.set_xlabel(\"Space (GB)\")\n",
    "plt.show()"
   ]
  },
  {
   "cell_type": "markdown",
   "metadata": {},
   "source": [
    "### Get reservations\n",
    "\n",
    "Get total reservations assigned and reservations per pool."
   ]
  },
  {
   "cell_type": "code",
   "execution_count": null,
   "metadata": {},
   "outputs": [],
   "source": [
    "sumrestotal = dataraw[['reservation']].sum()\n",
    "display(Markdown(\"#### Reservation total SUM: {}\".format(human_size(sumrestotal.reservation))))"
   ]
  },
  {
   "cell_type": "code",
   "execution_count": null,
   "metadata": {},
   "outputs": [],
   "source": [
    "reservationpool = dataraw[['reservation', 'pool']].groupby('pool')\n",
    "reservationpool.sum().applymap(human_size)"
   ]
  },
  {
   "cell_type": "code",
   "execution_count": null,
   "metadata": {},
   "outputs": [],
   "source": [
    "unusedrespool = dataraw[['space_unused_res', 'pool']].groupby('pool')\n",
    "unusedrespool.sum().applymap(human_size)"
   ]
  },
  {
   "cell_type": "markdown",
   "metadata": {},
   "source": [
    "### Show percentaje of unused reservation per filesystem in GB\n",
    "\n",
    "Table with top unused reservation and a graph with red bars in values equal or beyond 50% percent."
   ]
  },
  {
   "cell_type": "code",
   "execution_count": null,
   "metadata": {},
   "outputs": [],
   "source": [
    "def highlight(data):\n",
    "    if data.space_unused_res > 50:\n",
    "        return 'background-color: yellow'\n",
    "\n",
    "unusedresfs = dataraw[['name', 'project', 'space_unused_res', 'reservation']]\n",
    "percentage = unusedresfs.copy()\n",
    "percentage['unused_percent'] = (unusedresfs['space_unused_res'] / unusedresfs['reservation']) * 100\n",
    "percentage['used_percent'] = 100 - (unusedresfs['space_unused_res'] / unusedresfs['reservation']) * 100\n",
    "percentage['space_unused_res'] = percentage['space_unused_res']\n",
    "percentage['reservation'] = percentage['reservation']\n",
    "percentage['space_unused_res'] = percentage['space_unused_res'].apply(human_size)\n",
    "percentage['reservation'] = percentage['reservation'].apply(human_size)\n",
    "percentage.set_index(['name', 'project'], inplace=True)\n",
    "topunusedpercent = percentage.sort_values('unused_percent', ascending=False).dropna()\n",
    "topunusedpercent.style.bar()"
   ]
  },
  {
   "cell_type": "code",
   "execution_count": null,
   "metadata": {},
   "outputs": [],
   "source": [
    "colors = []\n",
    "for val in topunusedpercent['unused_percent'].values:\n",
    "    if val >= 50:\n",
    "        colors.append('r')\n",
    "    else:\n",
    "        colors.append('b')\n",
    "        \n",
    "def vertical_size(count):\n",
    "    if count <= 15:\n",
    "        return 10\n",
    "    else:\n",
    "        size = (count / 15) * 5\n",
    "        if size <= 10:\n",
    "            return 10\n",
    "        else:\n",
    "            return ((count / 15) * 5)\n",
    "vertical = vertical_size(topunusedpercent.count()[0])\n",
    "plt.figure(figsize=(16, vertical))\n",
    "# plot bar\n",
    "ax = plt.subplot(111)\n",
    "ax = topunusedpercent['unused_percent'].plot(kind='barh', legend=False, ax=ax,\n",
    "                                      fontsize=12, grid=True, stacked=True, color=colors)\n",
    "ax.set_ylabel('Unused Percentage')\n",
    "ax.set_xlabel('filesystem')\n",
    "plt.show()"
   ]
  },
  {
   "cell_type": "markdown",
   "metadata": {},
   "source": [
    "### Get quota information"
   ]
  },
  {
   "cell_type": "code",
   "execution_count": null,
   "metadata": {},
   "outputs": [],
   "source": [
    "quotaref = dataraw[['project', 'name', 'quota', 'space_data']]\n",
    "quota = quotaref.copy()\n",
    "# leave just row with non-zero quota values\n",
    "quota = quota[~(quota == 0).any(axis=1)]\n",
    "quota['unused_percent'] = 100 - (quota['space_data'] / quota['quota']) * 100\n",
    "quota['used percent'] = (quota['space_data'] / quota['quota']) * 100\n",
    "quota['quota'] = quota['quota'].apply(human_size) #/ (1024 * 1024 * 1024)\n",
    "quota['space_data'] = quota['space_data'].apply(human_size)\n",
    "#quota.set_index('name', inplace=True)\n",
    "quota.set_index(['name', 'project'], inplace=True)\n",
    "topquotaunused = quota.sort_values('unused_percent', ascending=False)\n",
    "topquotaunused.style.bar()"
   ]
  },
  {
   "cell_type": "code",
   "execution_count": null,
   "metadata": {},
   "outputs": [],
   "source": [
    "colors = []\n",
    "for val in topquotaunused['unused_percent'].values:\n",
    "    if val >= 50:\n",
    "        colors.append('r')\n",
    "    else:\n",
    "        colors.append('b')\n",
    "def vertical_size(count):\n",
    "    if count <= 15:\n",
    "        return 10\n",
    "    else:\n",
    "        size = (count / 15) * 5\n",
    "        if size <= 10:\n",
    "            return 10\n",
    "        else:\n",
    "            return ((count / 15) * 5)\n",
    "vertical = vertical_size(topquotaunused.count()[0])\n",
    "plt.figure(figsize=(16, vertical))\n",
    "# plot bar\n",
    "ax = plt.subplot(111)\n",
    "ax = topquotaunused['unused_percent'].plot(kind='barh', legend=False, ax=ax,\n",
    "                                           fontsize=12, grid=True, stacked=True, color=colors)\n",
    "ax.set_ylabel('Unused Quota Percentage')\n",
    "ax.set_xlabel('filesystem')\n",
    "plt.show()"
   ]
  },
  {
   "cell_type": "markdown",
   "metadata": {},
   "source": [
    "### Get filesystems using compression"
   ]
  },
  {
   "cell_type": "code",
   "execution_count": null,
   "metadata": {},
   "outputs": [],
   "source": [
    "compress = dataraw[['name', 'project', 'pool', 'compressratio']]\n",
    "compress = compress[compress['compressratio'] != 100]\n",
    "compress.set_index('name')"
   ]
  }
 ],
 "metadata": {
  "kernelspec": {
   "display_name": "Python 3",
   "language": "python",
   "name": "python3"
  },
  "language_info": {
   "codemirror_mode": {
    "name": "ipython",
    "version": 3
   },
   "file_extension": ".py",
   "mimetype": "text/x-python",
   "name": "python",
   "nbconvert_exporter": "python",
   "pygments_lexer": "ipython3",
   "version": "3.6.4"
  }
 },
 "nbformat": 4,
 "nbformat_minor": 2
}
