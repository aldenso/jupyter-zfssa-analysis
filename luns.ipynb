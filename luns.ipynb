{
 "cells": [
  {
   "cell_type": "code",
   "execution_count": null,
   "metadata": {},
   "outputs": [],
   "source": [
    "%matplotlib inline\n",
    "import pandas as pd\n",
    "from pandas.plotting import table\n",
    "import matplotlib.pyplot as plt\n",
    "from IPython.display import display, Markdown, HTML"
   ]
  },
  {
   "cell_type": "markdown",
   "metadata": {},
   "source": [
    "Define the luns csv file to use for the notebook"
   ]
  },
  {
   "cell_type": "code",
   "execution_count": null,
   "metadata": {},
   "outputs": [],
   "source": [
    "#LUNSFILE = ['luns.csv', 'anotherpath/luns.csv']\n",
    "LUNSFILE = ['/tmp/zfssa_explorer_XXX.XXX.XXX.XXX_XXXXXX_XXXXXX/luns.csv']"
   ]
  },
  {
   "cell_type": "markdown",
   "metadata": {},
   "source": [
    "Just a function to change sizes to human readable for return values"
   ]
  },
  {
   "cell_type": "code",
   "execution_count": null,
   "metadata": {},
   "outputs": [],
   "source": [
    "suffixes = ['B', 'KB', 'MB', 'GB', 'TB', 'PB']\n",
    "def human_size(nbytes):\n",
    "    i = 0\n",
    "    while nbytes >= 1024 and i < len(suffixes)-1:\n",
    "        nbytes /= 1024.\n",
    "        i += 1\n",
    "    f = ('%.2f' % nbytes).rstrip('0').rstrip('.')\n",
    "    return '%s %s' % (f, suffixes[i])"
   ]
  },
  {
   "cell_type": "code",
   "execution_count": null,
   "metadata": {},
   "outputs": [],
   "source": [
    "dataraw = \"\"\n",
    "if len(LUNSFILE) == 1:\n",
    "    dataraw = pd.read_csv(str(LUNSFILE).strip(\"[']\"), header=1, sep=\";\")\n",
    "else:\n",
    "    filelist = []\n",
    "    for file in LUNSFILE:\n",
    "        x = 0\n",
    "        dfname = \"df{}\".format(x)\n",
    "        dfname = pd.read_csv(file, header=1, sep=\";\")\n",
    "        filelist.append(dfname)\n",
    "        x + 1\n",
    "    dataraw = pd.concat(filelist)"
   ]
  },
  {
   "cell_type": "markdown",
   "metadata": {},
   "source": [
    "Show available columns"
   ]
  },
  {
   "cell_type": "code",
   "execution_count": null,
   "metadata": {
    "scrolled": true
   },
   "outputs": [],
   "source": [
    "dataraw.columns"
   ]
  },
  {
   "cell_type": "markdown",
   "metadata": {},
   "source": [
    "### Select only name, project, pool, volsize, lunumber, lunguid and space total cols"
   ]
  },
  {
   "cell_type": "code",
   "execution_count": null,
   "metadata": {},
   "outputs": [],
   "source": [
    "mydata = dataraw[['name', 'project', 'pool', 'volsize', 'lunumber', 'lunguid', 'space_total']]"
   ]
  },
  {
   "cell_type": "markdown",
   "metadata": {},
   "source": [
    "### Get Total luns"
   ]
  },
  {
   "cell_type": "code",
   "execution_count": null,
   "metadata": {},
   "outputs": [],
   "source": [
    "display(Markdown(\"### Total luns: {}\".format(mydata.count()[0])))"
   ]
  },
  {
   "cell_type": "markdown",
   "metadata": {},
   "source": [
    "### Get luns per project"
   ]
  },
  {
   "cell_type": "code",
   "execution_count": null,
   "metadata": {},
   "outputs": [],
   "source": [
    "grpprojprool = mydata.groupby(['project', 'pool'])\n",
    "grpprojprool.count()[['name']].rename(columns={'name': 'luns'}).sort_values('luns', ascending=False)"
   ]
  },
  {
   "cell_type": "markdown",
   "metadata": {},
   "source": [
    "### Get all projects and all projects names with luns (including repeated in different pools)"
   ]
  },
  {
   "cell_type": "code",
   "execution_count": null,
   "metadata": {
    "scrolled": true
   },
   "outputs": [],
   "source": [
    "projectslist = mydata.project.unique()\n",
    "countproj, countprojperpool = len(projectslist), len(grpprojprool.indices)\n",
    "display(Markdown(\"### Total project names with luns: {}\\n\\n ### Total projects with luns: {}\"\n",
    "                 .format(countproj, countprojperpool)))\n",
    "if countproj != countprojperpool:\n",
    "    display(HTML('<strong><span style=\"background-color: #FFFF00\">'\n",
    "                 'Some project names are repeated in different pools.'\n",
    "                 '</span></strong>'))"
   ]
  },
  {
   "cell_type": "markdown",
   "metadata": {},
   "source": [
    "### Get luns per pool"
   ]
  },
  {
   "cell_type": "code",
   "execution_count": null,
   "metadata": {},
   "outputs": [],
   "source": [
    "lunsperpool = mydata.groupby('pool').count()[['name']].rename(columns={'name': 'luns'})\n",
    "\n",
    "plt.figure(figsize=(15, 9))\n",
    "# plot bar\n",
    "ax1 = plt.subplot(221)\n",
    "ax1 = lunsperpool.plot(kind='barh', legend=False, ax=ax1, fontsize=12, grid=True)\n",
    "ax1.set_ylabel('pool')\n",
    "ax1.set_xlabel('luns')\n",
    "# plot pie\n",
    "ax2 = plt.subplot(222)\n",
    "ax2 = lunsperpool.plot(kind='pie', legend=False, ax=ax2, subplots=True, startangle=90)\n",
    "# plot table\n",
    "ax3 = plt.subplot(223)\n",
    "plt.axis('off')\n",
    "tbl = table(ax3, lunsperpool, loc='center', bbox=[0.2, 0.2, 0.5, 0.5])\n",
    "tbl.auto_set_font_size(False)\n",
    "tbl.set_fontsize(14)\n",
    "plt.show()"
   ]
  },
  {
   "cell_type": "markdown",
   "metadata": {},
   "source": [
    "### Get usage size per pool\n",
    "\n",
    "Shows graphs for volsize sum per pool and for space_total sum per pool."
   ]
  },
  {
   "cell_type": "code",
   "execution_count": null,
   "metadata": {},
   "outputs": [],
   "source": [
    "volsperpool = grpprojprool['volsize'].sum().groupby('pool').sum() / (1024 * 1024 * 1024 * 1024)\n",
    "spacetperpool = grpprojprool['space_total'].sum().groupby('pool').sum() / (1024 * 1024 * 1024 * 1024)\n",
    "\n",
    "plt.figure(figsize=(15, 12))\n",
    "# plot volsize sum per pool\n",
    "ax1 = plt.subplot(321)\n",
    "ax1 = volsperpool.plot(kind='bar', legend=False, ax=ax1, fontsize=12, grid=True)\n",
    "ax1.set_ylabel('volsize sum (TB)')\n",
    "ax1.set_xlabel('pools')\n",
    "# plot space_total sum per pool\n",
    "ax2 = plt.subplot(322)\n",
    "ax2 = spacetperpool.plot(kind='bar', legend=False, ax=ax2, fontsize=12, grid=True)\n",
    "ax2.set_ylabel('space total sum (TB)')\n",
    "ax2.set_xlabel('pools')\n",
    "# plot table for volsize sum per pool\n",
    "ax3 = plt.subplot(323)\n",
    "plt.axis('off')\n",
    "tbl = table(ax3, volsperpool.round(2), loc='bottom', bbox=[0.2, 0.1, 0.5, 0.5])\n",
    "tbl.auto_set_font_size(False)\n",
    "tbl.set_fontsize(13)\n",
    "# plot table for space_total sum per pool\n",
    "ax4 = plt.subplot(324)\n",
    "plt.axis('off')\n",
    "tbl = table(ax4, spacetperpool.round(2), loc='bottom', bbox=[0.2, 0.1, 0.5, 0.5])\n",
    "tbl.auto_set_font_size(False)\n",
    "tbl.set_fontsize(13)\n",
    "# plot pie volsize sum per pool\n",
    "ax5 = plt.subplot(325)\n",
    "ax5 = volsperpool.plot(kind='pie', legend=False, ax=ax5, subplots=True, startangle=90)\n",
    "# plot pie volsize sum per pool\n",
    "ax6 = plt.subplot(326)\n",
    "ax6 = spacetperpool.plot(kind='pie', legend=False, ax=ax6, subplots=True, startangle=90)\n",
    "plt.show()"
   ]
  },
  {
   "cell_type": "markdown",
   "metadata": {},
   "source": [
    "### Get lun count per volsize"
   ]
  },
  {
   "cell_type": "code",
   "execution_count": null,
   "metadata": {
    "scrolled": false
   },
   "outputs": [],
   "source": [
    "a = mydata.copy()\n",
    "a.volsize = a.volsize / (1024 * 1024 * 1024)\n",
    "groupsvolsize = a.groupby('volsize')\n",
    "gvols = groupsvolsize.count()[['name']].rename(columns={'name': 'luns'})\n",
    "def vertical_size(count):\n",
    "    if count <= 25:\n",
    "        return 10\n",
    "    else:\n",
    "        size = (count / 25) * 5\n",
    "        if size <= 10:\n",
    "            return 10\n",
    "        else:\n",
    "            return ((count / 25) * 5)\n",
    "\n",
    "vertical = vertical_size(gvols.count()[0])\n",
    "gvols.plot.barh(figsize=(18, vertical), grid=True)\n",
    "plt.show()\n",
    "gvols.sort_index(ascending=False)"
   ]
  },
  {
   "cell_type": "markdown",
   "metadata": {},
   "source": [
    "## Get total usage from luns"
   ]
  },
  {
   "cell_type": "code",
   "execution_count": null,
   "metadata": {
    "scrolled": true
   },
   "outputs": [],
   "source": [
    "usage = dataraw[['name', 'space_total', 'space_data', 'space_snapshots', 'space_available']]\n",
    "#total = usage.sum()[1:4] / (1024 * 1024 * 1024 * 1024)\n",
    "total = usage.sum()[1:4]\n",
    "display(Markdown(\"### Space Total: {}\\n### Space Data: {}\\n### Space Snapshots: {}\"\n",
    "                 .format(human_size(total.space_total), human_size(total.space_data),\n",
    "                         human_size(total.space_snapshots))))"
   ]
  },
  {
   "cell_type": "code",
   "execution_count": null,
   "metadata": {
    "scrolled": true
   },
   "outputs": [],
   "source": [
    "initiatorgrp = dataraw[['initiatorgroup', 'name']]\n",
    "initiatorgrp.groupby('initiatorgroup').count().rename(columns={'name': 'lun count'})"
   ]
  },
  {
   "cell_type": "code",
   "execution_count": null,
   "metadata": {},
   "outputs": [],
   "source": [
    "initiators = initiatorgrp.groupby('initiatorgroup')\n",
    "IGList = initiators.indices.keys()\n",
    "ig = dataraw[['space_total', 'initiatorgroup']]\n",
    "usage_per_ig = ig.groupby('initiatorgroup').sum()\n",
    "for k, v in usage_per_ig.itertuples():\n",
    "    display(Markdown(\"#### {}\\n\\nSize: **{}**\".format(k.strip(\"[']\"), human_size(v))))\n",
    "    "
   ]
  },
  {
   "cell_type": "markdown",
   "metadata": {},
   "source": [
    "#### Get LUNs configured as thin provision (sparse)"
   ]
  },
  {
   "cell_type": "code",
   "execution_count": null,
   "metadata": {},
   "outputs": [],
   "source": [
    "sparse = dataraw[['name', 'sparse']]\n",
    "luns_using_sparse = sparse.loc[sparse.sparse == True]\n",
    "luns_not_using_sparse = sparse.loc[sparse.sparse == False]\n",
    "display(Markdown(\"#### LUNs using thin provision: **{}**\".format(luns_using_sparse['sparse'].count())))\n",
    "display(Markdown(\"#### LUNs Not using thin provision: **{}**\".format(luns_not_using_sparse['sparse'].count())))"
   ]
  },
  {
   "cell_type": "markdown",
   "metadata": {},
   "source": [
    "### Get low use and overused luns assigned with thin provisioning\n",
    "\n",
    "Low usage are lun with usage space less than 50% of the volsize, and over used lun is one that report a usage greater than the volsize."
   ]
  },
  {
   "cell_type": "code",
   "execution_count": null,
   "metadata": {},
   "outputs": [],
   "source": [
    "sparse = dataraw[['name', 'project', 'pool', 'sparse', 'space_total', 'volsize']].set_index('name')\n",
    "lusparse = sparse.loc[sparse.sparse == True].copy()\n",
    "lusparse[['space_total', 'volsize']] = lusparse[['space_total', 'volsize']] / (1024 * 1024 * 1024)\n",
    "low_use = lusparse.loc[(lusparse.space_total * 100) / lusparse.volsize <= 50 ]\n",
    "over_use = lusparse.loc[(lusparse.space_total * 100) / lusparse.volsize >= 100 ]\n",
    "display(Markdown(\"LUNs wasted: **{}**\".format(low_use['sparse'].count())))\n",
    "display(Markdown(\"LUNs overused: **{}**\".format(over_use['sparse'].count())))\n",
    "# Avoid SettingWithCopyWarning\n",
    "pd.options.mode.chained_assignment = None\n",
    "low_use.drop('sparse', axis=1, inplace=True)\n",
    "over_use.drop('sparse', axis=1, inplace=True)\n",
    "# enable SettingWithCopyWarning \n",
    "pd.options.mode.chained_assignment = 'warn'\n",
    "plt.figure(figsize=(15, 8))\n",
    "# plot bar\n",
    "try:\n",
    "    ax1 = plt.subplot(121)\n",
    "    ax1 = low_use.plot(kind='bar', legend=True, ax=ax1, fontsize=12, grid=True)\n",
    "    ax1.set_ylabel('Size (GB)')\n",
    "    ax1.set_xlabel('Low use LUNs')\n",
    "except:\n",
    "    print(\"No low usage luns to plot\")\n",
    "# plot bar\n",
    "try:\n",
    "    ax2 = plt.subplot(122)\n",
    "    ax2 = over_use.plot(kind='bar', legend=True, ax=ax2, fontsize=12, grid=True)\n",
    "    ax2.set_ylabel('Size (GB)')\n",
    "    ax2.set_xlabel('Overused LUNs')\n",
    "except Exception as e:\n",
    "    print(\"No overused luns to plot\")\n",
    "plt.show()"
   ]
  },
  {
   "cell_type": "markdown",
   "metadata": {},
   "source": [
    "### Get LUNs using compression"
   ]
  },
  {
   "cell_type": "code",
   "execution_count": null,
   "metadata": {},
   "outputs": [],
   "source": [
    "compress = dataraw[['name', 'project', 'pool', 'compressratio']]\n",
    "compress[compress['compressratio'] != 100]"
   ]
  }
 ],
 "metadata": {
  "kernelspec": {
   "display_name": "Python 3",
   "language": "python",
   "name": "python3"
  }
 },
 "nbformat": 4,
 "nbformat_minor": 2
}
