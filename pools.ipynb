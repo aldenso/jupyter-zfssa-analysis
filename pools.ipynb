{
 "cells": [
  {
   "cell_type": "code",
   "execution_count": null,
   "metadata": {},
   "outputs": [],
   "source": [
    "%matplotlib inline\n",
    "import math\n",
    "import pandas as pd\n",
    "from pandas.plotting import table\n",
    "import matplotlib.pyplot as plt\n",
    "from IPython.display import display, Markdown, HTML, Javascript\n",
    "from ipywidgets import widgets\n",
    "from utils import human_size, selectdata, run_all_below, getrawdata, ExplorersSelection"
   ]
  },
  {
   "cell_type": "code",
   "execution_count": null,
   "metadata": {},
   "outputs": [],
   "source": [
    "explorers=selectdata(\"/tmp/datazfssa\")\n",
    "f = ExplorersSelection('pools.csv', explorers)\n",
    "f.widget()"
   ]
  },
  {
   "cell_type": "code",
   "execution_count": null,
   "metadata": {},
   "outputs": [],
   "source": [
    "runall = widgets.Button(description=\"Run all cells below\", button_style='success')\n",
    "runall.on_click(run_all_below)\n",
    "display(runall)"
   ]
  },
  {
   "cell_type": "code",
   "execution_count": null,
   "metadata": {},
   "outputs": [],
   "source": [
    "POOLSFILES = f.selected_explorers\n",
    "POOLSFILES"
   ]
  },
  {
   "cell_type": "code",
   "execution_count": null,
   "metadata": {},
   "outputs": [],
   "source": [
    "dataraw = getrawdata(POOLSFILES)"
   ]
  },
  {
   "cell_type": "markdown",
   "metadata": {},
   "source": [
    "# Show available columns"
   ]
  },
  {
   "cell_type": "code",
   "execution_count": null,
   "metadata": {},
   "outputs": [],
   "source": [
    "dataraw.columns"
   ]
  },
  {
   "cell_type": "code",
   "execution_count": null,
   "metadata": {},
   "outputs": [],
   "source": [
    "# drop rows where the status is exported to avoid some duplicated values \n",
    "dataraw = dataraw[dataraw.status != 'exported']\n",
    "countpools = dataraw[['asn']]\n",
    "display(Markdown(\"### Pools: {}\".format(len(countpools))))"
   ]
  },
  {
   "cell_type": "markdown",
   "metadata": {},
   "source": [
    "check profiles"
   ]
  },
  {
   "cell_type": "code",
   "execution_count": null,
   "metadata": {},
   "outputs": [],
   "source": [
    "profiles = dataraw[['profile', 'name', 'owner', 'status']].set_index('name').sort_index(ascending=True)\n",
    "profiles"
   ]
  },
  {
   "cell_type": "markdown",
   "metadata": {},
   "source": [
    "check if more than one profile is in the same node"
   ]
  },
  {
   "cell_type": "code",
   "execution_count": null,
   "metadata": {},
   "outputs": [],
   "source": [
    "uniqref = profiles[profiles['status'] != 'exported']\n",
    "uniq = uniqref.groupby('name')['profile']\n",
    "if uniq.all().nunique() != len(uniqref):\n",
    "    display(HTML('<strong><span style=\"background-color: #FFFF00\">'\n",
    "                 'Some pools with the same profile are in the same controller (Not Recommended).'\n",
    "                 '</span></strong>'))\n",
    "else:\n",
    "    display(HTML('<strong>Pools per profile distributed normally</strong>'))\n",
    "uniq.all()"
   ]
  },
  {
   "cell_type": "markdown",
   "metadata": {},
   "source": [
    "### Get usage distribution\n",
    "\n",
    "legend:\n",
    "\n",
    "    usage_total = total pool capacity\n",
    "    usage_usage_total = total space used\n",
    "    usage_usage_data = space used (not considering reservation)\n",
    "    usage_used = real space used\n",
    "    usage_available = space available - reservation, etc\n",
    "    usage_free = space free for assigment\n",
    "    usage_usage_snapshots = space used for snapshots"
   ]
  },
  {
   "cell_type": "code",
   "execution_count": null,
   "metadata": {
    "scrolled": false
   },
   "outputs": [],
   "source": [
    "poolsimported = dataraw.set_index('name')\n",
    "poolsimported = poolsimported[profiles['status'] != 'exported']\n",
    "usage = poolsimported[['usage_available', 'usage_used', 'usage_usage_data', 'usage_free',\n",
    "                       'usage_usage_snapshots', 'usage_usage_total', 'usage_total']]\n",
    "usage = usage.astype(float)\n",
    "plt.figure(figsize=(30, 8))\n",
    "# plot bar\n",
    "ax1 = plt.subplot(121)\n",
    "ax1 = usage.sort_index(ascending=True).astype(float).plot(kind='bar', legend=True, ax=ax1, fontsize=12, grid=True)\n",
    "ax1.set_ylabel('Space Usage')\n",
    "ax1.set_xlabel('pool')\n",
    "plt.show()\n",
    "usage.sort_index(ascending=True).applymap(human_size)"
   ]
  },
  {
   "cell_type": "code",
   "execution_count": null,
   "metadata": {},
   "outputs": [],
   "source": [
    "usagefree = usage[['usage_free', 'usage_total']]\n",
    "usagefreepercent = (usagefree['usage_free'] * 100 ) / usagefree['usage_total']\n",
    "usagefreepercent.rename(\"Usage Free Percentage\", inplace=True).sort_index(ascending=True, inplace=True)\n",
    "colors = []\n",
    "for val in usagefreepercent:\n",
    "    if val > 20:\n",
    "        colors.append('g')\n",
    "    elif val <= 20 and val > 10:\n",
    "        colors.append('y')\n",
    "    else:\n",
    "        colors.append('r')\n",
    "        \n",
    "plt.figure(figsize=(16, 6))\n",
    "# plot bar\n",
    "ax1 = plt.subplot(121)\n",
    "ax1 = usagefreepercent.astype(float).plot(kind='bar', ax=ax1, fontsize=12, grid=True, color=colors)\n",
    "ax1.set_ylabel('Free Percent')\n",
    "ax1.set_xlabel('pool')\n",
    "# plot table\n",
    "ax2 = plt.subplot(122)\n",
    "plt.axis('off')\n",
    "tbl = table(ax2, usagefreepercent.round(2), loc='center', bbox=[0.2, 0.2, 0.5, 0.5])\n",
    "tbl.auto_set_font_size(False)\n",
    "plt.show()"
   ]
  },
  {
   "cell_type": "markdown",
   "metadata": {},
   "source": [
    "### Get compression info"
   ]
  },
  {
   "cell_type": "code",
   "execution_count": null,
   "metadata": {},
   "outputs": [],
   "source": [
    "compress = dataraw[['name', 'usage_compression']]\n",
    "compress.set_index('name').sort_index(ascending=True)"
   ]
  }
 ],
 "metadata": {
  "kernelspec": {
   "display_name": "Python 3",
   "language": "python",
   "name": "python3"
  },
  "language_info": {
   "codemirror_mode": {
    "name": "ipython",
    "version": 3
   },
   "file_extension": ".py",
   "mimetype": "text/x-python",
   "name": "python",
   "nbconvert_exporter": "python",
   "pygments_lexer": "ipython3",
   "version": "3.6.4"
  }
 },
 "nbformat": 4,
 "nbformat_minor": 2
}
