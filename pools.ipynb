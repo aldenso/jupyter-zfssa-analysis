{
 "cells": [
  {
   "cell_type": "code",
   "execution_count": null,
   "metadata": {},
   "outputs": [],
   "source": [
    "%matplotlib inline\n",
    "import math\n",
    "import pandas as pd\n",
    "from pandas.plotting import table\n",
    "import matplotlib.pyplot as plt\n",
    "from IPython.display import display, Markdown, HTML"
   ]
  },
  {
   "cell_type": "code",
   "execution_count": null,
   "metadata": {},
   "outputs": [],
   "source": [
    "#POOLSFILE = ['pools.csv', 'anotherpath/pools.csv']\n",
    "POOLSFILE = ['/tmp/zfssa_explorer_XXX.XXX.XXX.XXX_XXXXXX_XXXXXX/pools.csv']"
   ]
  },
  {
   "cell_type": "markdown",
   "metadata": {},
   "source": [
    "Just a function to change sizes to human readable for return values"
   ]
  },
  {
   "cell_type": "code",
   "execution_count": null,
   "metadata": {},
   "outputs": [],
   "source": [
    "suffixes = ['B', 'KB', 'MB', 'GB', 'TB', 'PB']\n",
    "def human_size(nbytes):\n",
    "    i = 0\n",
    "    while nbytes >= 1024 and i < len(suffixes)-1:\n",
    "        nbytes /= 1024.\n",
    "        i += 1\n",
    "    f = ('%.2f' % nbytes).rstrip('0').rstrip('.')\n",
    "    return '%s %s' % (f, suffixes[i])"
   ]
  },
  {
   "cell_type": "code",
   "execution_count": null,
   "metadata": {},
   "outputs": [],
   "source": [
    "#dataraw = pd.read_csv(POOLSFILE, header=1, sep=\";\")\n",
    "dataraw = \"\"\n",
    "if len(POOLSFILE) == 1:\n",
    "    dataraw = pd.read_csv(str(POOLSFILE).strip(\"[']\"), header=1, sep=\";\")\n",
    "else:\n",
    "    filelist = []\n",
    "    for file in POOLSFILE:\n",
    "        x = 0\n",
    "        dfname = \"df{}\".format(x)\n",
    "        dfname = pd.read_csv(file, header=1, sep=\";\")\n",
    "        filelist.append(dfname)\n",
    "        x + 1\n",
    "    dataraw = pd.concat(filelist)"
   ]
  },
  {
   "cell_type": "markdown",
   "metadata": {},
   "source": [
    "Show available columns"
   ]
  },
  {
   "cell_type": "code",
   "execution_count": null,
   "metadata": {},
   "outputs": [],
   "source": [
    "dataraw.columns"
   ]
  },
  {
   "cell_type": "code",
   "execution_count": null,
   "metadata": {},
   "outputs": [],
   "source": [
    "# drop rows where the status is exported to avoid some duplicated values \n",
    "dataraw = dataraw[dataraw.status != 'exported']\n",
    "countpools = dataraw[['asn']]\n",
    "display(Markdown(\"### Pools: {}\".format(len(countpools))))"
   ]
  },
  {
   "cell_type": "markdown",
   "metadata": {},
   "source": [
    "check profiles"
   ]
  },
  {
   "cell_type": "code",
   "execution_count": null,
   "metadata": {},
   "outputs": [],
   "source": [
    "profiles = dataraw[['profile', 'name', 'owner', 'status']].set_index('name')\n",
    "profiles"
   ]
  },
  {
   "cell_type": "markdown",
   "metadata": {},
   "source": [
    "check if more than one profile is in the same node"
   ]
  },
  {
   "cell_type": "code",
   "execution_count": null,
   "metadata": {},
   "outputs": [],
   "source": [
    "uniqref = profiles[profiles['status'] != 'exported']\n",
    "uniq = uniqref.groupby('name')['profile']\n",
    "if uniq.all().nunique() != len(uniqref):\n",
    "    display(HTML('<strong><span style=\"background-color: #FFFF00\">'\n",
    "                 'Some pools with the same profile are in the same controller (Not Recommended).'\n",
    "                 '</span></strong>'))\n",
    "else:\n",
    "    display(HTML('<strong>Pools per profile distributed normally</strong>'))\n",
    "uniq.all()"
   ]
  },
  {
   "cell_type": "markdown",
   "metadata": {},
   "source": [
    "### Get usage distribution\n",
    "\n",
    "legend:\n",
    "\n",
    "    usage_total = total pool capacity\n",
    "    usage_usage_total = total space used\n",
    "    usage_usage_data = space used (not considering reservation)\n",
    "    usage_used = real space used\n",
    "    usage_available = space available - reservation, etc\n",
    "    usage_free = space free for assigment\n",
    "    usage_usage_snapshots = space used for snapshots"
   ]
  },
  {
   "cell_type": "code",
   "execution_count": null,
   "metadata": {},
   "outputs": [],
   "source": [
    "poolsimported = dataraw.set_index('name')\n",
    "poolsimported = poolsimported[profiles['status'] != 'exported']\n",
    "usage = poolsimported[['usage_available', 'usage_used', 'usage_usage_data', 'usage_free',\n",
    "                       'usage_usage_snapshots', 'usage_usage_total', 'usage_total']]\n",
    "usage = usage.astype(float)\n",
    "plt.figure(figsize=(30, 8))\n",
    "# plot bar\n",
    "ax1 = plt.subplot(121)\n",
    "ax1 = usage.astype(float).plot(kind='bar', legend=True, ax=ax1, fontsize=12, grid=True)\n",
    "ax1.set_ylabel('Space(TB)')\n",
    "ax1.set_xlabel('pool')\n",
    "plt.show()\n",
    "usage.applymap(human_size)"
   ]
  },
  {
   "cell_type": "markdown",
   "metadata": {},
   "source": [
    "### Get compression info"
   ]
  },
  {
   "cell_type": "code",
   "execution_count": null,
   "metadata": {},
   "outputs": [],
   "source": [
    "compress = dataraw[['name', 'usage_compression']]\n",
    "compress.set_index('name')"
   ]
  }
 ],
 "metadata": {
  "kernelspec": {
   "display_name": "Python 3",
   "language": "python",
   "name": "python3"
  },
  "language_info": {
   "codemirror_mode": {
    "name": "ipython",
    "version": 3
   },
   "file_extension": ".py",
   "mimetype": "text/x-python",
   "name": "python",
   "nbconvert_exporter": "python",
   "pygments_lexer": "ipython3",
   "version": "3.6.4"
  }
 },
 "nbformat": 4,
 "nbformat_minor": 2
}
