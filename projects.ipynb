{
 "cells": [
  {
   "cell_type": "code",
   "execution_count": null,
   "metadata": {},
   "outputs": [],
   "source": [
    "%matplotlib inline\n",
    "import pandas as pd\n",
    "from pandas.plotting import table\n",
    "import matplotlib.pyplot as plt\n",
    "from IPython.display import display, Markdown, HTML\n",
    "from ipywidgets import widgets\n",
    "from utils import human_size, selectdata, run_all_below, getrawdata, ExplorersSelection"
   ]
  },
  {
   "cell_type": "code",
   "execution_count": null,
   "metadata": {},
   "outputs": [],
   "source": [
    "explorers=selectdata(\"/tmp/datazfssa\")\n",
    "f = ExplorersSelection('projects.csv', explorers)\n",
    "f.widget()"
   ]
  },
  {
   "cell_type": "code",
   "execution_count": null,
   "metadata": {},
   "outputs": [],
   "source": [
    "runall = widgets.Button(description=\"Run all cells below\", button_style='success')\n",
    "runall.on_click(run_all_below)\n",
    "display(runall)"
   ]
  },
  {
   "cell_type": "code",
   "execution_count": null,
   "metadata": {},
   "outputs": [],
   "source": [
    "PROJFILES = f.selected_explorers\n",
    "PROJFILES"
   ]
  },
  {
   "cell_type": "code",
   "execution_count": null,
   "metadata": {},
   "outputs": [],
   "source": [
    "dataraw = getrawdata(PROJFILES)"
   ]
  },
  {
   "cell_type": "markdown",
   "metadata": {},
   "source": [
    "Show available columns"
   ]
  },
  {
   "cell_type": "code",
   "execution_count": null,
   "metadata": {},
   "outputs": [],
   "source": [
    "dataraw.columns"
   ]
  },
  {
   "cell_type": "code",
   "execution_count": null,
   "metadata": {},
   "outputs": [],
   "source": [
    "countproj = dataraw['id'].count()\n",
    "display(Markdown(\"### Projects count: {}\".format(countproj)))"
   ]
  },
  {
   "cell_type": "markdown",
   "metadata": {},
   "source": [
    "### Get projects per pool"
   ]
  },
  {
   "cell_type": "code",
   "execution_count": null,
   "metadata": {
    "scrolled": false
   },
   "outputs": [],
   "source": [
    "projpool = dataraw[['name', 'pool']].rename(columns={'name': 'projects'}).groupby('pool').count()\n",
    "\n",
    "plt.figure(figsize=(14, 9))\n",
    "# plot bar\n",
    "ax1 = plt.subplot(221)\n",
    "ax1 = projpool.plot(kind='bar', legend=False, ax=ax1, fontsize=12, grid=True)\n",
    "ax1.set_ylabel('Projects')\n",
    "ax1.set_xlabel('pool')\n",
    "# plot pie\n",
    "ax3 = plt.subplot(222)\n",
    "ax3 = projpool.plot(kind='pie', legend=False, ax=ax3, subplots=True, startangle=90)\n",
    "# plot table\n",
    "ax2 = plt.subplot(223)\n",
    "plt.axis('off')\n",
    "tbl = table(ax2, projpool, loc='center', bbox=[0.2, 0.2, 0.5, 0.5])\n",
    "tbl.auto_set_font_size(False)\n",
    "tbl.set_fontsize(14)\n",
    "plt.show()"
   ]
  },
  {
   "cell_type": "markdown",
   "metadata": {},
   "source": [
    "### Check for duplicated projects in different pools"
   ]
  },
  {
   "cell_type": "code",
   "execution_count": null,
   "metadata": {},
   "outputs": [],
   "source": [
    "projpool = dataraw[['name', 'pool']]\n",
    "nonunique = projpool[projpool['name'].duplicated()].groupby('name')\n",
    "dup = projpool[projpool.name.isin(nonunique.name.all())]\n",
    "dup.set_index('name').sort_values('pool')"
   ]
  },
  {
   "cell_type": "markdown",
   "metadata": {},
   "source": [
    "### Usage"
   ]
  },
  {
   "cell_type": "code",
   "execution_count": null,
   "metadata": {},
   "outputs": [],
   "source": [
    "sumspace = dataraw[['space_total', 'space_data','space_unused_res', 'space_unused_res_shares',\n",
    "                    'reservation']].sum()\n",
    "sumspace.map(human_size)"
   ]
  },
  {
   "cell_type": "markdown",
   "metadata": {},
   "source": [
    "### Usage per pool"
   ]
  },
  {
   "cell_type": "code",
   "execution_count": null,
   "metadata": {},
   "outputs": [],
   "source": [
    "spacepool = dataraw[['space_total', 'space_data','space_unused_res', 'space_unused_res_shares',\n",
    "                     'reservation', 'pool']].groupby('pool')\n",
    "spacepool.sum().applymap(human_size)"
   ]
  },
  {
   "cell_type": "markdown",
   "metadata": {},
   "source": [
    "### Get projects using compression"
   ]
  },
  {
   "cell_type": "code",
   "execution_count": null,
   "metadata": {
    "scrolled": true
   },
   "outputs": [],
   "source": [
    "compress = dataraw[['name', 'pool', 'compressratio']]\n",
    "compress[compress['compressratio'] != 100]"
   ]
  }
 ],
 "metadata": {
  "kernelspec": {
   "display_name": "Python 3",
   "language": "python",
   "name": "python3"
  },
  "language_info": {
   "codemirror_mode": {
    "name": "ipython",
    "version": 3
   },
   "file_extension": ".py",
   "mimetype": "text/x-python",
   "name": "python",
   "nbconvert_exporter": "python",
   "pygments_lexer": "ipython3",
   "version": "3.6.4"
  }
 },
 "nbformat": 4,
 "nbformat_minor": 2
}
