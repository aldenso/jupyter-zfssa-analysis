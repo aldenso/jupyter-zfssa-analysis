{
 "cells": [
  {
   "cell_type": "code",
   "execution_count": null,
   "metadata": {},
   "outputs": [],
   "source": [
    "%matplotlib inline\n",
    "import pandas as pd\n",
    "from pandas.plotting import table\n",
    "import matplotlib.pyplot as plt\n",
    "from IPython.display import display, Markdown, HTML"
   ]
  },
  {
   "cell_type": "code",
   "execution_count": null,
   "metadata": {},
   "outputs": [],
   "source": [
    "#PROJFILE =  ['projects.csv', 'anotherpath/projects.csv']\n",
    "PROJFILE = ['/tmp/zfssa_explorer_XXX.XXX.XXX.XXX_XXXXXX_XXXXXX/projects.csv']"
   ]
  },
  {
   "cell_type": "markdown",
   "metadata": {},
   "source": [
    "Just a function to change sizes to human readable for return values"
   ]
  },
  {
   "cell_type": "code",
   "execution_count": null,
   "metadata": {},
   "outputs": [],
   "source": [
    "suffixes = ['B', 'KB', 'MB', 'GB', 'TB', 'PB']\n",
    "def human_size(nbytes):\n",
    "    i = 0\n",
    "    while nbytes >= 1024 and i < len(suffixes)-1:\n",
    "        nbytes /= 1024.\n",
    "        i += 1\n",
    "    f = ('%.2f' % nbytes).rstrip('0').rstrip('.')\n",
    "    return '%s %s' % (f, suffixes[i])"
   ]
  },
  {
   "cell_type": "code",
   "execution_count": null,
   "metadata": {},
   "outputs": [],
   "source": [
    "#dataraw = pd.read_csv(PROJFILE, header=1, sep=\";\")\n",
    "dataraw = \"\"\n",
    "if len(PROJFILE) == 1:\n",
    "    dataraw = pd.read_csv(str(PROJFILE).strip(\"[']\"), header=1, sep=\";\")\n",
    "else:\n",
    "    filelist = []\n",
    "    for file in PROJFILE:\n",
    "        x = 0\n",
    "        dfname = \"df{}\".format(x)\n",
    "        dfname = pd.read_csv(file, header=1, sep=\";\")\n",
    "        filelist.append(dfname)\n",
    "        x + 1\n",
    "    dataraw = pd.concat(filelist)"
   ]
  },
  {
   "cell_type": "markdown",
   "metadata": {},
   "source": [
    "Show available columns"
   ]
  },
  {
   "cell_type": "code",
   "execution_count": null,
   "metadata": {},
   "outputs": [],
   "source": [
    "dataraw.columns"
   ]
  },
  {
   "cell_type": "code",
   "execution_count": null,
   "metadata": {},
   "outputs": [],
   "source": [
    "countproj = dataraw['id'].count()\n",
    "display(Markdown(\"#### Projects count: {}\".format(countproj)))"
   ]
  },
  {
   "cell_type": "markdown",
   "metadata": {},
   "source": [
    "### Get projects per pool"
   ]
  },
  {
   "cell_type": "code",
   "execution_count": null,
   "metadata": {},
   "outputs": [],
   "source": [
    "projpool = dataraw[['name', 'pool']].rename(columns={'name': 'projects'}).groupby('pool').count()\n",
    "\n",
    "plt.figure(figsize=(12, 4))\n",
    "# plot bar\n",
    "ax1 = plt.subplot(121)\n",
    "ax1 = projpool.plot(kind='bar', legend=False, ax=ax1, fontsize=12, grid=True)\n",
    "ax1.set_ylabel('Projects')\n",
    "ax1.set_xlabel('pool')\n",
    "# plot table\n",
    "ax2 = plt.subplot(122)\n",
    "plt.axis('off')\n",
    "tbl = table(ax2, projpool, loc='center', bbox=[0.2, 0.2, 0.5, 0.5])\n",
    "tbl.auto_set_font_size(False)\n",
    "tbl.set_fontsize(14)\n",
    "plt.show()\n"
   ]
  },
  {
   "cell_type": "markdown",
   "metadata": {},
   "source": [
    "### Check for duplicated projects in different pools"
   ]
  },
  {
   "cell_type": "code",
   "execution_count": null,
   "metadata": {},
   "outputs": [],
   "source": [
    "projpool = dataraw[['name', 'pool']]\n",
    "nonunique = projpool[projpool['name'].duplicated()].groupby('name')\n",
    "dup = projpool[projpool.name.isin(nonunique.name.all())]\n",
    "dup.set_index('name').sort_index()"
   ]
  },
  {
   "cell_type": "markdown",
   "metadata": {},
   "source": [
    "### Usage"
   ]
  },
  {
   "cell_type": "code",
   "execution_count": null,
   "metadata": {},
   "outputs": [],
   "source": [
    "sumspace = dataraw[['space_total', 'space_data','space_unused_res', 'space_unused_res_shares',\n",
    "                    'reservation']].sum()\n",
    "sumspace.map(human_size)"
   ]
  },
  {
   "cell_type": "markdown",
   "metadata": {},
   "source": [
    "### Usage per pool"
   ]
  },
  {
   "cell_type": "code",
   "execution_count": null,
   "metadata": {},
   "outputs": [],
   "source": [
    "spacepool = dataraw[['space_total', 'space_data','space_unused_res', 'space_unused_res_shares',\n",
    "                     'reservation', 'pool']].groupby('pool')\n",
    "spacepool.sum().applymap(human_size)"
   ]
  },
  {
   "cell_type": "markdown",
   "metadata": {},
   "source": [
    "### Get projects using compression"
   ]
  },
  {
   "cell_type": "code",
   "execution_count": null,
   "metadata": {
    "scrolled": true
   },
   "outputs": [],
   "source": [
    "compress = dataraw[['name', 'pool', 'compressratio']]\n",
    "compress[compress['compressratio'] != 100]"
   ]
  }
 ],
 "metadata": {
  "kernelspec": {
   "display_name": "Python 3",
   "language": "python",
   "name": "python3"
  },
  "language_info": {
   "codemirror_mode": {
    "name": "ipython",
    "version": 3
   },
   "file_extension": ".py",
   "mimetype": "text/x-python",
   "name": "python",
   "nbconvert_exporter": "python",
   "pygments_lexer": "ipython3",
   "version": "3.6.4"
  }
 },
 "nbformat": 4,
 "nbformat_minor": 2
}
